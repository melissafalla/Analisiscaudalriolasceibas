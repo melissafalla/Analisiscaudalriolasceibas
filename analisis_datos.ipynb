{
 "cells": [
  {
   "cell_type": "code",
   "execution_count": 4,
   "metadata": {},
   "outputs": [],
   "source": [
    "import pandas as pd "
   ]
  },
  {
   "cell_type": "code",
   "execution_count": 5,
   "metadata": {},
   "outputs": [
    {
     "data": {
      "text/html": [
       "<div>\n",
       "<style scoped>\n",
       "    .dataframe tbody tr th:only-of-type {\n",
       "        vertical-align: middle;\n",
       "    }\n",
       "\n",
       "    .dataframe tbody tr th {\n",
       "        vertical-align: top;\n",
       "    }\n",
       "\n",
       "    .dataframe thead th {\n",
       "        text-align: right;\n",
       "    }\n",
       "</style>\n",
       "<table border=\"1\" class=\"dataframe\">\n",
       "  <thead>\n",
       "    <tr style=\"text-align: right;\">\n",
       "      <th></th>\n",
       "      <th>CodigoEstacion</th>\n",
       "      <th>NombreEstacion</th>\n",
       "      <th>Variable</th>\n",
       "      <th>Parametro</th>\n",
       "      <th>Fecha</th>\n",
       "      <th>Unidad</th>\n",
       "      <th>Valor</th>\n",
       "      <th>NivelAprobacion</th>\n",
       "    </tr>\n",
       "  </thead>\n",
       "  <tbody>\n",
       "    <tr>\n",
       "      <th>0</th>\n",
       "      <td>2111700151</td>\n",
       "      <td>EL GUAYABO 2 [2111700151]</td>\n",
       "      <td>CAUDAL</td>\n",
       "      <td>Caudal máximo diario</td>\n",
       "      <td>2022-01-01 00:00</td>\n",
       "      <td>m^3/s</td>\n",
       "      <td>3.7</td>\n",
       "      <td>Preliminar</td>\n",
       "    </tr>\n",
       "    <tr>\n",
       "      <th>1</th>\n",
       "      <td>2111700151</td>\n",
       "      <td>EL GUAYABO 2 [2111700151]</td>\n",
       "      <td>CAUDAL</td>\n",
       "      <td>Caudal máximo diario</td>\n",
       "      <td>2022-01-02 00:00</td>\n",
       "      <td>m^3/s</td>\n",
       "      <td>3.7</td>\n",
       "      <td>Preliminar</td>\n",
       "    </tr>\n",
       "    <tr>\n",
       "      <th>2</th>\n",
       "      <td>2111700151</td>\n",
       "      <td>EL GUAYABO 2 [2111700151]</td>\n",
       "      <td>CAUDAL</td>\n",
       "      <td>Caudal máximo diario</td>\n",
       "      <td>2022-01-03 00:00</td>\n",
       "      <td>m^3/s</td>\n",
       "      <td>3.7</td>\n",
       "      <td>Preliminar</td>\n",
       "    </tr>\n",
       "    <tr>\n",
       "      <th>3</th>\n",
       "      <td>2111700151</td>\n",
       "      <td>EL GUAYABO 2 [2111700151]</td>\n",
       "      <td>CAUDAL</td>\n",
       "      <td>Caudal máximo diario</td>\n",
       "      <td>2022-01-04 00:00</td>\n",
       "      <td>m^3/s</td>\n",
       "      <td>3.7</td>\n",
       "      <td>Preliminar</td>\n",
       "    </tr>\n",
       "    <tr>\n",
       "      <th>4</th>\n",
       "      <td>2111700151</td>\n",
       "      <td>EL GUAYABO 2 [2111700151]</td>\n",
       "      <td>CAUDAL</td>\n",
       "      <td>Caudal máximo diario</td>\n",
       "      <td>2022-01-05 00:00</td>\n",
       "      <td>m^3/s</td>\n",
       "      <td>3.7</td>\n",
       "      <td>Preliminar</td>\n",
       "    </tr>\n",
       "    <tr>\n",
       "      <th>...</th>\n",
       "      <td>...</td>\n",
       "      <td>...</td>\n",
       "      <td>...</td>\n",
       "      <td>...</td>\n",
       "      <td>...</td>\n",
       "      <td>...</td>\n",
       "      <td>...</td>\n",
       "      <td>...</td>\n",
       "    </tr>\n",
       "    <tr>\n",
       "      <th>1365</th>\n",
       "      <td>21097070</td>\n",
       "      <td>PUENTE SANTANDER AUT [21097070]</td>\n",
       "      <td>CAUDAL</td>\n",
       "      <td>Caudal máximo diario</td>\n",
       "      <td>2023-12-28 00:00</td>\n",
       "      <td>m^3/s</td>\n",
       "      <td>941.6</td>\n",
       "      <td>Definitivo</td>\n",
       "    </tr>\n",
       "    <tr>\n",
       "      <th>1366</th>\n",
       "      <td>21097070</td>\n",
       "      <td>PUENTE SANTANDER AUT [21097070]</td>\n",
       "      <td>CAUDAL</td>\n",
       "      <td>Caudal máximo diario</td>\n",
       "      <td>2023-12-29 00:00</td>\n",
       "      <td>m^3/s</td>\n",
       "      <td>997.4</td>\n",
       "      <td>Definitivo</td>\n",
       "    </tr>\n",
       "    <tr>\n",
       "      <th>1367</th>\n",
       "      <td>21097070</td>\n",
       "      <td>PUENTE SANTANDER AUT [21097070]</td>\n",
       "      <td>CAUDAL</td>\n",
       "      <td>Caudal máximo diario</td>\n",
       "      <td>2023-12-30 00:00</td>\n",
       "      <td>m^3/s</td>\n",
       "      <td>991.8</td>\n",
       "      <td>Definitivo</td>\n",
       "    </tr>\n",
       "    <tr>\n",
       "      <th>1368</th>\n",
       "      <td>21097070</td>\n",
       "      <td>PUENTE SANTANDER AUT [21097070]</td>\n",
       "      <td>CAUDAL</td>\n",
       "      <td>Caudal máximo diario</td>\n",
       "      <td>2023-12-31 00:00</td>\n",
       "      <td>m^3/s</td>\n",
       "      <td>1003.0</td>\n",
       "      <td>Preliminar</td>\n",
       "    </tr>\n",
       "    <tr>\n",
       "      <th>1369</th>\n",
       "      <td>21097070</td>\n",
       "      <td>PUENTE SANTANDER AUT [21097070]</td>\n",
       "      <td>CAUDAL</td>\n",
       "      <td>Caudal máximo diario</td>\n",
       "      <td>2024-01-01 00:00</td>\n",
       "      <td>m^3/s</td>\n",
       "      <td>1032.0</td>\n",
       "      <td>Preliminar</td>\n",
       "    </tr>\n",
       "  </tbody>\n",
       "</table>\n",
       "<p>1370 rows × 8 columns</p>\n",
       "</div>"
      ],
      "text/plain": [
       "      CodigoEstacion                   NombreEstacion Variable  \\\n",
       "0         2111700151        EL GUAYABO 2 [2111700151]   CAUDAL   \n",
       "1         2111700151        EL GUAYABO 2 [2111700151]   CAUDAL   \n",
       "2         2111700151        EL GUAYABO 2 [2111700151]   CAUDAL   \n",
       "3         2111700151        EL GUAYABO 2 [2111700151]   CAUDAL   \n",
       "4         2111700151        EL GUAYABO 2 [2111700151]   CAUDAL   \n",
       "...              ...                              ...      ...   \n",
       "1365        21097070  PUENTE SANTANDER AUT [21097070]   CAUDAL   \n",
       "1366        21097070  PUENTE SANTANDER AUT [21097070]   CAUDAL   \n",
       "1367        21097070  PUENTE SANTANDER AUT [21097070]   CAUDAL   \n",
       "1368        21097070  PUENTE SANTANDER AUT [21097070]   CAUDAL   \n",
       "1369        21097070  PUENTE SANTANDER AUT [21097070]   CAUDAL   \n",
       "\n",
       "                 Parametro             Fecha Unidad   Valor NivelAprobacion  \n",
       "0     Caudal máximo diario  2022-01-01 00:00  m^3/s     3.7      Preliminar  \n",
       "1     Caudal máximo diario  2022-01-02 00:00  m^3/s     3.7      Preliminar  \n",
       "2     Caudal máximo diario  2022-01-03 00:00  m^3/s     3.7      Preliminar  \n",
       "3     Caudal máximo diario  2022-01-04 00:00  m^3/s     3.7      Preliminar  \n",
       "4     Caudal máximo diario  2022-01-05 00:00  m^3/s     3.7      Preliminar  \n",
       "...                    ...               ...    ...     ...             ...  \n",
       "1365  Caudal máximo diario  2023-12-28 00:00  m^3/s   941.6      Definitivo  \n",
       "1366  Caudal máximo diario  2023-12-29 00:00  m^3/s   997.4      Definitivo  \n",
       "1367  Caudal máximo diario  2023-12-30 00:00  m^3/s   991.8      Definitivo  \n",
       "1368  Caudal máximo diario  2023-12-31 00:00  m^3/s  1003.0      Preliminar  \n",
       "1369  Caudal máximo diario  2024-01-01 00:00  m^3/s  1032.0      Preliminar  \n",
       "\n",
       "[1370 rows x 8 columns]"
      ]
     },
     "execution_count": 5,
     "metadata": {},
     "output_type": "execute_result"
    }
   ],
   "source": [
    "#datos descrgados de IDEAM (desde 01/01/2022 hasta el 01/01/2024) del caudal maximo diario de las de puente santander y el guayabo\n",
    "# acontinuacion solicitamos la visualizacion de nuestros datos Csv descargados\n",
    "\n",
    "df = pd.read_csv('descargaDhime 2.csv')\n",
    "df "
   ]
  },
  {
   "cell_type": "code",
   "execution_count": 9,
   "metadata": {},
   "outputs": [
    {
     "data": {
      "text/plain": [
       "Index(['CodigoEstacion', 'NombreEstacion', 'Variable', 'Parametro', 'Fecha',\n",
       "       'Unidad', 'Valor', 'NivelAprobacion'],\n",
       "      dtype='object')"
      ]
     },
     "execution_count": 9,
     "metadata": {},
     "output_type": "execute_result"
    }
   ],
   "source": [
    "df.columns"
   ]
  },
  {
   "cell_type": "code",
   "execution_count": 10,
   "metadata": {},
   "outputs": [
    {
     "data": {
      "text/plain": [
       "CodigoEstacion       int64\n",
       "NombreEstacion      object\n",
       "Variable            object\n",
       "Parametro           object\n",
       "Fecha               object\n",
       "Unidad              object\n",
       "Valor              float64\n",
       "NivelAprobacion     object\n",
       "dtype: object"
      ]
     },
     "execution_count": 10,
     "metadata": {},
     "output_type": "execute_result"
    }
   ],
   "source": [
    "df.dtypes"
   ]
  },
  {
   "cell_type": "code",
   "execution_count": 36,
   "metadata": {},
   "outputs": [
    {
     "data": {
      "text/html": [
       "<div>\n",
       "<style scoped>\n",
       "    .dataframe tbody tr th:only-of-type {\n",
       "        vertical-align: middle;\n",
       "    }\n",
       "\n",
       "    .dataframe tbody tr th {\n",
       "        vertical-align: top;\n",
       "    }\n",
       "\n",
       "    .dataframe thead th {\n",
       "        text-align: right;\n",
       "    }\n",
       "</style>\n",
       "<table border=\"1\" class=\"dataframe\">\n",
       "  <thead>\n",
       "    <tr style=\"text-align: right;\">\n",
       "      <th></th>\n",
       "      <th>CodigoEstacion</th>\n",
       "      <th>NombreEstacion</th>\n",
       "      <th>Variable</th>\n",
       "      <th>Parametro</th>\n",
       "      <th>Fecha</th>\n",
       "      <th>Unidad</th>\n",
       "      <th>Valor</th>\n",
       "      <th>NivelAprobacion</th>\n",
       "    </tr>\n",
       "  </thead>\n",
       "  <tbody>\n",
       "    <tr>\n",
       "      <th>0</th>\n",
       "      <td>2111700151</td>\n",
       "      <td>EL GUAYABO 2</td>\n",
       "      <td>CAUDAL</td>\n",
       "      <td>Caudal máximo diario</td>\n",
       "      <td>2022-01-01</td>\n",
       "      <td>m^3/s</td>\n",
       "      <td>3.7</td>\n",
       "      <td>Preliminar</td>\n",
       "    </tr>\n",
       "    <tr>\n",
       "      <th>1</th>\n",
       "      <td>2111700151</td>\n",
       "      <td>EL GUAYABO 2</td>\n",
       "      <td>CAUDAL</td>\n",
       "      <td>Caudal máximo diario</td>\n",
       "      <td>2022-01-02</td>\n",
       "      <td>m^3/s</td>\n",
       "      <td>3.7</td>\n",
       "      <td>Preliminar</td>\n",
       "    </tr>\n",
       "    <tr>\n",
       "      <th>2</th>\n",
       "      <td>2111700151</td>\n",
       "      <td>EL GUAYABO 2</td>\n",
       "      <td>CAUDAL</td>\n",
       "      <td>Caudal máximo diario</td>\n",
       "      <td>2022-01-03</td>\n",
       "      <td>m^3/s</td>\n",
       "      <td>3.7</td>\n",
       "      <td>Preliminar</td>\n",
       "    </tr>\n",
       "    <tr>\n",
       "      <th>3</th>\n",
       "      <td>2111700151</td>\n",
       "      <td>EL GUAYABO 2</td>\n",
       "      <td>CAUDAL</td>\n",
       "      <td>Caudal máximo diario</td>\n",
       "      <td>2022-01-04</td>\n",
       "      <td>m^3/s</td>\n",
       "      <td>3.7</td>\n",
       "      <td>Preliminar</td>\n",
       "    </tr>\n",
       "    <tr>\n",
       "      <th>4</th>\n",
       "      <td>2111700151</td>\n",
       "      <td>EL GUAYABO 2</td>\n",
       "      <td>CAUDAL</td>\n",
       "      <td>Caudal máximo diario</td>\n",
       "      <td>2022-01-05</td>\n",
       "      <td>m^3/s</td>\n",
       "      <td>3.7</td>\n",
       "      <td>Preliminar</td>\n",
       "    </tr>\n",
       "    <tr>\n",
       "      <th>...</th>\n",
       "      <td>...</td>\n",
       "      <td>...</td>\n",
       "      <td>...</td>\n",
       "      <td>...</td>\n",
       "      <td>...</td>\n",
       "      <td>...</td>\n",
       "      <td>...</td>\n",
       "      <td>...</td>\n",
       "    </tr>\n",
       "    <tr>\n",
       "      <th>1365</th>\n",
       "      <td>21097070</td>\n",
       "      <td>PUENTE SANTANDER AUT</td>\n",
       "      <td>CAUDAL</td>\n",
       "      <td>Caudal máximo diario</td>\n",
       "      <td>2023-12-28</td>\n",
       "      <td>m^3/s</td>\n",
       "      <td>941.6</td>\n",
       "      <td>Definitivo</td>\n",
       "    </tr>\n",
       "    <tr>\n",
       "      <th>1366</th>\n",
       "      <td>21097070</td>\n",
       "      <td>PUENTE SANTANDER AUT</td>\n",
       "      <td>CAUDAL</td>\n",
       "      <td>Caudal máximo diario</td>\n",
       "      <td>2023-12-29</td>\n",
       "      <td>m^3/s</td>\n",
       "      <td>997.4</td>\n",
       "      <td>Definitivo</td>\n",
       "    </tr>\n",
       "    <tr>\n",
       "      <th>1367</th>\n",
       "      <td>21097070</td>\n",
       "      <td>PUENTE SANTANDER AUT</td>\n",
       "      <td>CAUDAL</td>\n",
       "      <td>Caudal máximo diario</td>\n",
       "      <td>2023-12-30</td>\n",
       "      <td>m^3/s</td>\n",
       "      <td>991.8</td>\n",
       "      <td>Definitivo</td>\n",
       "    </tr>\n",
       "    <tr>\n",
       "      <th>1368</th>\n",
       "      <td>21097070</td>\n",
       "      <td>PUENTE SANTANDER AUT</td>\n",
       "      <td>CAUDAL</td>\n",
       "      <td>Caudal máximo diario</td>\n",
       "      <td>2023-12-31</td>\n",
       "      <td>m^3/s</td>\n",
       "      <td>1003.0</td>\n",
       "      <td>Preliminar</td>\n",
       "    </tr>\n",
       "    <tr>\n",
       "      <th>1369</th>\n",
       "      <td>21097070</td>\n",
       "      <td>PUENTE SANTANDER AUT</td>\n",
       "      <td>CAUDAL</td>\n",
       "      <td>Caudal máximo diario</td>\n",
       "      <td>2024-01-01</td>\n",
       "      <td>m^3/s</td>\n",
       "      <td>1032.0</td>\n",
       "      <td>Preliminar</td>\n",
       "    </tr>\n",
       "  </tbody>\n",
       "</table>\n",
       "<p>1370 rows × 8 columns</p>\n",
       "</div>"
      ],
      "text/plain": [
       "      CodigoEstacion        NombreEstacion Variable             Parametro  \\\n",
       "0         2111700151          EL GUAYABO 2   CAUDAL  Caudal máximo diario   \n",
       "1         2111700151          EL GUAYABO 2   CAUDAL  Caudal máximo diario   \n",
       "2         2111700151          EL GUAYABO 2   CAUDAL  Caudal máximo diario   \n",
       "3         2111700151          EL GUAYABO 2   CAUDAL  Caudal máximo diario   \n",
       "4         2111700151          EL GUAYABO 2   CAUDAL  Caudal máximo diario   \n",
       "...              ...                   ...      ...                   ...   \n",
       "1365        21097070  PUENTE SANTANDER AUT   CAUDAL  Caudal máximo diario   \n",
       "1366        21097070  PUENTE SANTANDER AUT   CAUDAL  Caudal máximo diario   \n",
       "1367        21097070  PUENTE SANTANDER AUT   CAUDAL  Caudal máximo diario   \n",
       "1368        21097070  PUENTE SANTANDER AUT   CAUDAL  Caudal máximo diario   \n",
       "1369        21097070  PUENTE SANTANDER AUT   CAUDAL  Caudal máximo diario   \n",
       "\n",
       "          Fecha Unidad   Valor NivelAprobacion  \n",
       "0    2022-01-01  m^3/s     3.7      Preliminar  \n",
       "1    2022-01-02  m^3/s     3.7      Preliminar  \n",
       "2    2022-01-03  m^3/s     3.7      Preliminar  \n",
       "3    2022-01-04  m^3/s     3.7      Preliminar  \n",
       "4    2022-01-05  m^3/s     3.7      Preliminar  \n",
       "...         ...    ...     ...             ...  \n",
       "1365 2023-12-28  m^3/s   941.6      Definitivo  \n",
       "1366 2023-12-29  m^3/s   997.4      Definitivo  \n",
       "1367 2023-12-30  m^3/s   991.8      Definitivo  \n",
       "1368 2023-12-31  m^3/s  1003.0      Preliminar  \n",
       "1369 2024-01-01  m^3/s  1032.0      Preliminar  \n",
       "\n",
       "[1370 rows x 8 columns]"
      ]
     },
     "execution_count": 36,
     "metadata": {},
     "output_type": "execute_result"
    }
   ],
   "source": [
    "#cambiarel tipo de dato de  la columna \"fecha\"(obejet) a (datetime)\n",
    "df[\"Fecha\"] = pd.to_datetime(df[\"Fecha\"])\n",
    "df"
   ]
  },
  {
   "cell_type": "code",
   "execution_count": 12,
   "metadata": {},
   "outputs": [
    {
     "data": {
      "text/plain": [
       "CodigoEstacion     0\n",
       "NombreEstacion     0\n",
       "Variable           0\n",
       "Parametro          0\n",
       "Fecha              0\n",
       "Unidad             0\n",
       "Valor              0\n",
       "NivelAprobacion    0\n",
       "dtype: int64"
      ]
     },
     "execution_count": 12,
     "metadata": {},
     "output_type": "execute_result"
    }
   ],
   "source": [
    "#revisamos los valores nulos \n",
    "\n",
    "df.isnull().sum()\n"
   ]
  },
  {
   "cell_type": "code",
   "execution_count": null,
   "metadata": {},
   "outputs": [
    {
     "data": {
      "text/plain": [
       "NombreEstacion\n",
       "PUENTE SANTANDER AUT    705\n",
       "EL GUAYABO 2            665\n",
       "Name: count, dtype: int64"
      ]
     },
     "execution_count": 29,
     "metadata": {},
     "output_type": "execute_result"
    }
   ],
   "source": [
    "#valores unicos, lo cual podemos observar qu eninguno tiene conteo \"1\" entonces no hay valores unicos\n",
    "df[\"NombreEstacion\"].value_counts()\n"
   ]
  },
  {
   "cell_type": "code",
   "execution_count": 13,
   "metadata": {},
   "outputs": [
    {
     "data": {
      "text/plain": [
       "array(['EL GUAYABO 2 [2111700151]', 'PUENTE SANTANDER AUT [21097070]'],\n",
       "      dtype=object)"
      ]
     },
     "execution_count": 13,
     "metadata": {},
     "output_type": "execute_result"
    }
   ],
   "source": [
    "#valores distintos\n",
    "df[\"NombreEstacion\"].unique()\n"
   ]
  },
  {
   "cell_type": "code",
   "execution_count": null,
   "metadata": {},
   "outputs": [
    {
     "data": {
      "text/plain": [
       "2"
      ]
     },
     "execution_count": 8,
     "metadata": {},
     "output_type": "execute_result"
    }
   ],
   "source": [
    "#Cantidad de valores distintos\n",
    "df[\"NombreEstacion\"].nunique()\n"
   ]
  },
  {
   "cell_type": "code",
   "execution_count": null,
   "metadata": {},
   "outputs": [
    {
     "name": "stdout",
     "output_type": "stream",
     "text": [
      "['EL GUAYABO 2 [2111700151]' 'PUENTE SANTANDER AUT [21097070]']\n"
     ]
    }
   ],
   "source": [
    "#muestra los valores distintos\n",
    "print(df[\"NombreEstacion\"].unique())\n"
   ]
  },
  {
   "cell_type": "code",
   "execution_count": 15,
   "metadata": {},
   "outputs": [
    {
     "name": "stdout",
     "output_type": "stream",
     "text": [
      "Reemplazo exitoso\n"
     ]
    }
   ],
   "source": [
    "try:\n",
    "    df[\"NombreEstacion\"] = df[\"NombreEstacion\"].str.replace(r\"\\s*\\[\\d+\\]\", \"\", regex=True)\n",
    "    print(\"Reemplazo exitoso\")\n",
    "except Exception as e:\n",
    "    print(\"Error:\", e)\n"
   ]
  },
  {
   "cell_type": "code",
   "execution_count": null,
   "metadata": {},
   "outputs": [],
   "source": [
    "#visualizando la base de datos nos damos cuenta que las filas que se repiten en la columna \"NombreEstacion\" son ELGUAYABO2[2111700151]\n",
    "# y PUENTE SANTANDER AUT [21097070] podemos reemplazar estos valores restandoles el codigo de estacion \n",
    "df[\"NombreEstacion\"] = df[\"NombreEstacion\"].str.replace(r\"\\s*\\[\\d+\\]\", \"\", regex=True)\n"
   ]
  },
  {
   "cell_type": "code",
   "execution_count": 24,
   "metadata": {},
   "outputs": [
    {
     "data": {
      "text/html": [
       "<div>\n",
       "<style scoped>\n",
       "    .dataframe tbody tr th:only-of-type {\n",
       "        vertical-align: middle;\n",
       "    }\n",
       "\n",
       "    .dataframe tbody tr th {\n",
       "        vertical-align: top;\n",
       "    }\n",
       "\n",
       "    .dataframe thead th {\n",
       "        text-align: right;\n",
       "    }\n",
       "</style>\n",
       "<table border=\"1\" class=\"dataframe\">\n",
       "  <thead>\n",
       "    <tr style=\"text-align: right;\">\n",
       "      <th></th>\n",
       "      <th>CodigoEstacion</th>\n",
       "      <th>NombreEstacion</th>\n",
       "      <th>Variable</th>\n",
       "      <th>Parametro</th>\n",
       "      <th>Fecha</th>\n",
       "      <th>Unidad</th>\n",
       "      <th>Valor</th>\n",
       "      <th>NivelAprobacion</th>\n",
       "    </tr>\n",
       "  </thead>\n",
       "  <tbody>\n",
       "    <tr>\n",
       "      <th>0</th>\n",
       "      <td>2111700151</td>\n",
       "      <td>EL GUAYABO 2</td>\n",
       "      <td>CAUDAL</td>\n",
       "      <td>Caudal máximo diario</td>\n",
       "      <td>2022-01-01</td>\n",
       "      <td>m^3/s</td>\n",
       "      <td>3.70</td>\n",
       "      <td>Preliminar</td>\n",
       "    </tr>\n",
       "    <tr>\n",
       "      <th>1</th>\n",
       "      <td>2111700151</td>\n",
       "      <td>EL GUAYABO 2</td>\n",
       "      <td>CAUDAL</td>\n",
       "      <td>Caudal máximo diario</td>\n",
       "      <td>2022-01-02</td>\n",
       "      <td>m^3/s</td>\n",
       "      <td>3.70</td>\n",
       "      <td>Preliminar</td>\n",
       "    </tr>\n",
       "    <tr>\n",
       "      <th>2</th>\n",
       "      <td>2111700151</td>\n",
       "      <td>EL GUAYABO 2</td>\n",
       "      <td>CAUDAL</td>\n",
       "      <td>Caudal máximo diario</td>\n",
       "      <td>2022-01-03</td>\n",
       "      <td>m^3/s</td>\n",
       "      <td>3.70</td>\n",
       "      <td>Preliminar</td>\n",
       "    </tr>\n",
       "    <tr>\n",
       "      <th>3</th>\n",
       "      <td>2111700151</td>\n",
       "      <td>EL GUAYABO 2</td>\n",
       "      <td>CAUDAL</td>\n",
       "      <td>Caudal máximo diario</td>\n",
       "      <td>2022-01-04</td>\n",
       "      <td>m^3/s</td>\n",
       "      <td>3.70</td>\n",
       "      <td>Preliminar</td>\n",
       "    </tr>\n",
       "    <tr>\n",
       "      <th>4</th>\n",
       "      <td>2111700151</td>\n",
       "      <td>EL GUAYABO 2</td>\n",
       "      <td>CAUDAL</td>\n",
       "      <td>Caudal máximo diario</td>\n",
       "      <td>2022-01-05</td>\n",
       "      <td>m^3/s</td>\n",
       "      <td>3.70</td>\n",
       "      <td>Preliminar</td>\n",
       "    </tr>\n",
       "    <tr>\n",
       "      <th>5</th>\n",
       "      <td>2111700151</td>\n",
       "      <td>EL GUAYABO 2</td>\n",
       "      <td>CAUDAL</td>\n",
       "      <td>Caudal máximo diario</td>\n",
       "      <td>2022-01-06</td>\n",
       "      <td>m^3/s</td>\n",
       "      <td>3.70</td>\n",
       "      <td>Preliminar</td>\n",
       "    </tr>\n",
       "    <tr>\n",
       "      <th>6</th>\n",
       "      <td>2111700151</td>\n",
       "      <td>EL GUAYABO 2</td>\n",
       "      <td>CAUDAL</td>\n",
       "      <td>Caudal máximo diario</td>\n",
       "      <td>2022-01-07</td>\n",
       "      <td>m^3/s</td>\n",
       "      <td>3.70</td>\n",
       "      <td>Preliminar</td>\n",
       "    </tr>\n",
       "    <tr>\n",
       "      <th>7</th>\n",
       "      <td>2111700151</td>\n",
       "      <td>EL GUAYABO 2</td>\n",
       "      <td>CAUDAL</td>\n",
       "      <td>Caudal máximo diario</td>\n",
       "      <td>2022-01-08</td>\n",
       "      <td>m^3/s</td>\n",
       "      <td>3.70</td>\n",
       "      <td>Preliminar</td>\n",
       "    </tr>\n",
       "    <tr>\n",
       "      <th>8</th>\n",
       "      <td>2111700151</td>\n",
       "      <td>EL GUAYABO 2</td>\n",
       "      <td>CAUDAL</td>\n",
       "      <td>Caudal máximo diario</td>\n",
       "      <td>2022-01-09</td>\n",
       "      <td>m^3/s</td>\n",
       "      <td>3.70</td>\n",
       "      <td>Preliminar</td>\n",
       "    </tr>\n",
       "    <tr>\n",
       "      <th>9</th>\n",
       "      <td>2111700151</td>\n",
       "      <td>EL GUAYABO 2</td>\n",
       "      <td>CAUDAL</td>\n",
       "      <td>Caudal máximo diario</td>\n",
       "      <td>2022-01-10</td>\n",
       "      <td>m^3/s</td>\n",
       "      <td>3.94</td>\n",
       "      <td>Preliminar</td>\n",
       "    </tr>\n",
       "  </tbody>\n",
       "</table>\n",
       "</div>"
      ],
      "text/plain": [
       "   CodigoEstacion NombreEstacion Variable             Parametro      Fecha  \\\n",
       "0      2111700151   EL GUAYABO 2   CAUDAL  Caudal máximo diario 2022-01-01   \n",
       "1      2111700151   EL GUAYABO 2   CAUDAL  Caudal máximo diario 2022-01-02   \n",
       "2      2111700151   EL GUAYABO 2   CAUDAL  Caudal máximo diario 2022-01-03   \n",
       "3      2111700151   EL GUAYABO 2   CAUDAL  Caudal máximo diario 2022-01-04   \n",
       "4      2111700151   EL GUAYABO 2   CAUDAL  Caudal máximo diario 2022-01-05   \n",
       "5      2111700151   EL GUAYABO 2   CAUDAL  Caudal máximo diario 2022-01-06   \n",
       "6      2111700151   EL GUAYABO 2   CAUDAL  Caudal máximo diario 2022-01-07   \n",
       "7      2111700151   EL GUAYABO 2   CAUDAL  Caudal máximo diario 2022-01-08   \n",
       "8      2111700151   EL GUAYABO 2   CAUDAL  Caudal máximo diario 2022-01-09   \n",
       "9      2111700151   EL GUAYABO 2   CAUDAL  Caudal máximo diario 2022-01-10   \n",
       "\n",
       "  Unidad  Valor NivelAprobacion  \n",
       "0  m^3/s   3.70      Preliminar  \n",
       "1  m^3/s   3.70      Preliminar  \n",
       "2  m^3/s   3.70      Preliminar  \n",
       "3  m^3/s   3.70      Preliminar  \n",
       "4  m^3/s   3.70      Preliminar  \n",
       "5  m^3/s   3.70      Preliminar  \n",
       "6  m^3/s   3.70      Preliminar  \n",
       "7  m^3/s   3.70      Preliminar  \n",
       "8  m^3/s   3.70      Preliminar  \n",
       "9  m^3/s   3.94      Preliminar  "
      ]
     },
     "execution_count": 24,
     "metadata": {},
     "output_type": "execute_result"
    }
   ],
   "source": [
    "df.head(10)  # Muestra las primeras 10 filas\n"
   ]
  },
  {
   "cell_type": "code",
   "execution_count": 23,
   "metadata": {},
   "outputs": [
    {
     "data": {
      "text/html": [
       "<div>\n",
       "<style scoped>\n",
       "    .dataframe tbody tr th:only-of-type {\n",
       "        vertical-align: middle;\n",
       "    }\n",
       "\n",
       "    .dataframe tbody tr th {\n",
       "        vertical-align: top;\n",
       "    }\n",
       "\n",
       "    .dataframe thead th {\n",
       "        text-align: right;\n",
       "    }\n",
       "</style>\n",
       "<table border=\"1\" class=\"dataframe\">\n",
       "  <thead>\n",
       "    <tr style=\"text-align: right;\">\n",
       "      <th></th>\n",
       "      <th>CodigoEstacion</th>\n",
       "      <th>NombreEstacion</th>\n",
       "      <th>Variable</th>\n",
       "      <th>Parametro</th>\n",
       "      <th>Fecha</th>\n",
       "      <th>Unidad</th>\n",
       "      <th>Valor</th>\n",
       "      <th>NivelAprobacion</th>\n",
       "    </tr>\n",
       "  </thead>\n",
       "  <tbody>\n",
       "    <tr>\n",
       "      <th>1365</th>\n",
       "      <td>21097070</td>\n",
       "      <td>PUENTE SANTANDER AUT</td>\n",
       "      <td>CAUDAL</td>\n",
       "      <td>Caudal máximo diario</td>\n",
       "      <td>2023-12-28</td>\n",
       "      <td>m^3/s</td>\n",
       "      <td>941.6</td>\n",
       "      <td>Definitivo</td>\n",
       "    </tr>\n",
       "    <tr>\n",
       "      <th>1366</th>\n",
       "      <td>21097070</td>\n",
       "      <td>PUENTE SANTANDER AUT</td>\n",
       "      <td>CAUDAL</td>\n",
       "      <td>Caudal máximo diario</td>\n",
       "      <td>2023-12-29</td>\n",
       "      <td>m^3/s</td>\n",
       "      <td>997.4</td>\n",
       "      <td>Definitivo</td>\n",
       "    </tr>\n",
       "    <tr>\n",
       "      <th>1367</th>\n",
       "      <td>21097070</td>\n",
       "      <td>PUENTE SANTANDER AUT</td>\n",
       "      <td>CAUDAL</td>\n",
       "      <td>Caudal máximo diario</td>\n",
       "      <td>2023-12-30</td>\n",
       "      <td>m^3/s</td>\n",
       "      <td>991.8</td>\n",
       "      <td>Definitivo</td>\n",
       "    </tr>\n",
       "    <tr>\n",
       "      <th>1368</th>\n",
       "      <td>21097070</td>\n",
       "      <td>PUENTE SANTANDER AUT</td>\n",
       "      <td>CAUDAL</td>\n",
       "      <td>Caudal máximo diario</td>\n",
       "      <td>2023-12-31</td>\n",
       "      <td>m^3/s</td>\n",
       "      <td>1003.0</td>\n",
       "      <td>Preliminar</td>\n",
       "    </tr>\n",
       "    <tr>\n",
       "      <th>1369</th>\n",
       "      <td>21097070</td>\n",
       "      <td>PUENTE SANTANDER AUT</td>\n",
       "      <td>CAUDAL</td>\n",
       "      <td>Caudal máximo diario</td>\n",
       "      <td>2024-01-01</td>\n",
       "      <td>m^3/s</td>\n",
       "      <td>1032.0</td>\n",
       "      <td>Preliminar</td>\n",
       "    </tr>\n",
       "  </tbody>\n",
       "</table>\n",
       "</div>"
      ],
      "text/plain": [
       "      CodigoEstacion        NombreEstacion Variable             Parametro  \\\n",
       "1365        21097070  PUENTE SANTANDER AUT   CAUDAL  Caudal máximo diario   \n",
       "1366        21097070  PUENTE SANTANDER AUT   CAUDAL  Caudal máximo diario   \n",
       "1367        21097070  PUENTE SANTANDER AUT   CAUDAL  Caudal máximo diario   \n",
       "1368        21097070  PUENTE SANTANDER AUT   CAUDAL  Caudal máximo diario   \n",
       "1369        21097070  PUENTE SANTANDER AUT   CAUDAL  Caudal máximo diario   \n",
       "\n",
       "          Fecha Unidad   Valor NivelAprobacion  \n",
       "1365 2023-12-28  m^3/s   941.6      Definitivo  \n",
       "1366 2023-12-29  m^3/s   997.4      Definitivo  \n",
       "1367 2023-12-30  m^3/s   991.8      Definitivo  \n",
       "1368 2023-12-31  m^3/s  1003.0      Preliminar  \n",
       "1369 2024-01-01  m^3/s  1032.0      Preliminar  "
      ]
     },
     "execution_count": 23,
     "metadata": {},
     "output_type": "execute_result"
    }
   ],
   "source": [
    "df.tail()  # Muestra las últimas 5 filas\n"
   ]
  },
  {
   "cell_type": "code",
   "execution_count": null,
   "metadata": {},
   "outputs": [
    {
     "data": {
      "text/plain": [
       "CodigoEstacion       2\n",
       "NombreEstacion       2\n",
       "Variable             1\n",
       "Parametro            1\n",
       "Fecha              731\n",
       "Unidad               1\n",
       "Valor              338\n",
       "NivelAprobacion      2\n",
       "dtype: int64"
      ]
     },
     "execution_count": 25,
     "metadata": {},
     "output_type": "execute_result"
    }
   ],
   "source": [
    "#podemos observar todos los valores distintos de las columnas, \n",
    "df.nunique()\n"
   ]
  },
  {
   "cell_type": "code",
   "execution_count": 31,
   "metadata": {},
   "outputs": [
    {
     "name": "stdout",
     "output_type": "stream",
     "text": [
      "Valores únicos en CodigoEstacion: []\n",
      "Valores únicos en NombreEstacion: []\n",
      "Valores únicos en Variable: []\n",
      "Valores únicos en Parametro: []\n",
      "Valores únicos en Fecha: [Timestamp('2022-09-29 00:00:00'), Timestamp('2022-09-30 00:00:00'), Timestamp('2022-10-01 00:00:00'), Timestamp('2022-10-02 00:00:00'), Timestamp('2022-10-03 00:00:00'), Timestamp('2022-10-04 00:00:00'), Timestamp('2022-10-05 00:00:00'), Timestamp('2022-10-06 00:00:00'), Timestamp('2022-10-07 00:00:00'), Timestamp('2022-10-08 00:00:00'), Timestamp('2022-10-09 00:00:00'), Timestamp('2022-10-10 00:00:00'), Timestamp('2022-10-30 00:00:00'), Timestamp('2022-10-31 00:00:00'), Timestamp('2022-11-01 00:00:00'), Timestamp('2022-11-02 00:00:00'), Timestamp('2023-09-03 00:00:00'), Timestamp('2023-09-04 00:00:00'), Timestamp('2023-09-05 00:00:00'), Timestamp('2023-09-06 00:00:00'), Timestamp('2023-09-07 00:00:00'), Timestamp('2023-09-08 00:00:00'), Timestamp('2023-09-09 00:00:00'), Timestamp('2023-09-10 00:00:00'), Timestamp('2023-09-11 00:00:00'), Timestamp('2023-09-14 00:00:00'), Timestamp('2023-09-15 00:00:00'), Timestamp('2023-09-16 00:00:00'), Timestamp('2023-09-17 00:00:00'), Timestamp('2023-08-25 00:00:00'), Timestamp('2023-08-26 00:00:00'), Timestamp('2023-08-27 00:00:00'), Timestamp('2023-08-28 00:00:00'), Timestamp('2023-08-29 00:00:00'), Timestamp('2023-08-30 00:00:00'), Timestamp('2023-08-31 00:00:00'), Timestamp('2023-09-01 00:00:00'), Timestamp('2023-09-02 00:00:00'), Timestamp('2022-12-30 00:00:00'), Timestamp('2022-12-31 00:00:00'), Timestamp('2023-01-01 00:00:00'), Timestamp('2023-01-02 00:00:00'), Timestamp('2022-03-21 00:00:00'), Timestamp('2022-03-22 00:00:00'), Timestamp('2022-03-23 00:00:00'), Timestamp('2022-03-24 00:00:00'), Timestamp('2022-03-25 00:00:00'), Timestamp('2022-03-26 00:00:00'), Timestamp('2022-03-27 00:00:00'), Timestamp('2022-03-28 00:00:00'), Timestamp('2022-03-29 00:00:00'), Timestamp('2022-03-30 00:00:00'), Timestamp('2022-03-31 00:00:00'), Timestamp('2022-09-01 00:00:00'), Timestamp('2022-09-02 00:00:00'), Timestamp('2022-09-03 00:00:00'), Timestamp('2022-09-04 00:00:00'), Timestamp('2022-09-05 00:00:00'), Timestamp('2022-09-06 00:00:00'), Timestamp('2022-09-07 00:00:00'), Timestamp('2022-09-08 00:00:00'), Timestamp('2022-09-09 00:00:00'), Timestamp('2022-09-10 00:00:00'), Timestamp('2022-09-11 00:00:00'), Timestamp('2022-09-12 00:00:00'), Timestamp('2022-09-13 00:00:00'), Timestamp('2022-09-14 00:00:00'), Timestamp('2022-09-15 00:00:00'), Timestamp('2022-09-16 00:00:00'), Timestamp('2022-09-17 00:00:00'), Timestamp('2022-09-18 00:00:00'), Timestamp('2022-09-19 00:00:00'), Timestamp('2022-09-20 00:00:00'), Timestamp('2022-09-21 00:00:00'), Timestamp('2022-09-22 00:00:00'), Timestamp('2022-09-23 00:00:00'), Timestamp('2022-09-24 00:00:00'), Timestamp('2022-09-25 00:00:00'), Timestamp('2022-09-26 00:00:00'), Timestamp('2022-09-27 00:00:00'), Timestamp('2022-09-28 00:00:00'), Timestamp('2022-11-03 00:00:00'), Timestamp('2022-11-04 00:00:00'), Timestamp('2022-11-05 00:00:00'), Timestamp('2022-11-06 00:00:00'), Timestamp('2022-11-07 00:00:00'), Timestamp('2022-11-08 00:00:00'), Timestamp('2022-11-09 00:00:00'), Timestamp('2022-11-10 00:00:00'), Timestamp('2022-11-11 00:00:00'), Timestamp('2022-11-12 00:00:00'), Timestamp('2022-11-13 00:00:00')]\n",
      "Valores únicos en Unidad: []\n",
      "Valores únicos en Valor: [10.28, 5.73999999999741, 7.81499999998317, 7.35, 346.0, 9.37999999999583, 2.99999999999954, 365.0, 8.65, 2.77499999999757, 6.74999999999792, 5.29999999999537, 3.99, 4.69999999999259, 2.81, 5.25, 4.40999999999125, 2.72999999999736, 2.24999999999792, 3.19999999999768, 3.99999999999583, 5.24, 377.8, 3.79999999999491, 4.58, 509.4, 279.2, 6.59999999999861, 2.24999999999958, 7.34999999999792, 5.1799999999987, 549.0, 201.5, 237.0, 8.875, 9.62499999999155, 29.7399999998817, 3.82, 397.5, 445.5, 215.4, 316.1, 263.0, 252.6, 227.4, 55.3, 295.8, 229.8, 781.2, 713.8, 1169.6, 1084.6, 497.7, 1157.2, 2.755, 2.38499999999938, 2.29499999999938, 2.85, 2.655, 2.71, 2.47999999999852, 2.955, 2.75, 3.36999999999736, 1090.5, 1194.6, 751.8, 3.1849999999965, 3.67, 2.79999999999954, 7.54, 6.45, 8.48, 21.6999999999435, 18.4999999999287, 20.85, 7.05, 7.38999999999495, 2.70999999999912, 4.66, 4.55, 3.15499999999581, 3.92, 4.42, 2.715, 3.44, 3.87, 767.999999999662, 577.999999999241, 490.5, 893.999999999755, 3.66999999999875, 771.4, 801.0, 402.5, 580.0, 3.61999999999407, 591.999999998356, 3.43999999999491, 2.565, 2.765, 208.4, 590.5, 868.999999999639, 829.0, 662.25, 459.75, 535.75, 716.499999998933, 674.0, 2.38499999999979, 4.13, 2.805, 2.56499999999938, 3.24999999999792, 2.56499999999979, 4.26, 2.80999999999866, 428.0, 1138.6, 650.0, 2000.2, 1132.4, 435.0, 505.5, 242.2, 253.899999999958, 592.0, 552.0, 292.9, 1066.9, 404.1, 1303.5, 619.2, 1188.3, 1055.2, 325.0, 561.0, 1102.3, 1264.5, 2.67499999999803, 1078.7, 257.8, 1207.2, 1884.1, 690.5, 521.1, 776.3, 704.4, 474.9, 181.6, 190.0, 301.6, 225.0, 7.19999999998935, 529.0, 3.79, 213.0, 3.15, 811.0, 431.5, 493.8, 537.0, 438.5, 709.1, 371.4, 641.2, 686.0, 183.7, 173.2, 331.0, 460.1, 368.2, 271.1]\n",
      "Valores únicos en NivelAprobacion: []\n"
     ]
    }
   ],
   "source": [
    "#valores unicos por columnas\n",
    "for col in df.columns:\n",
    "    unicos = df[col].value_counts()[df[col].value_counts() == 1].index\n",
    "    print(f\"Valores únicos en {col}: {list(unicos)}\")\n"
   ]
  },
  {
   "cell_type": "code",
   "execution_count": 37,
   "metadata": {},
   "outputs": [
    {
     "name": "stdout",
     "output_type": "stream",
     "text": [
      "Valores únicos por columna: {'CodigoEstacion': np.int64(0), 'NombreEstacion': np.int64(0), 'Variable': np.int64(0), 'Parametro': np.int64(0), 'Fecha': np.int64(92), 'Unidad': np.int64(0), 'Valor': np.int64(174), 'NivelAprobacion': np.int64(0)}\n",
      "Total de valores únicos en el DataFrame: 266\n"
     ]
    }
   ],
   "source": [
    "unicos_por_columna = {col: (df[col].value_counts() == 1).sum() for col in df.columns}\n",
    "total_unicos = sum(unicos_por_columna.values())\n",
    "\n",
    "print(\"Valores únicos por columna:\", unicos_por_columna)\n",
    "print(\"Total de valores únicos en el DataFrame:\", total_unicos)\n"
   ]
  },
  {
   "cell_type": "code",
   "execution_count": null,
   "metadata": {},
   "outputs": [
    {
     "data": {
      "text/plain": [
       "CodigoEstacion              int64\n",
       "NombreEstacion             object\n",
       "Variable                   object\n",
       "Parametro                  object\n",
       "Fecha              datetime64[ns]\n",
       "Unidad                     object\n",
       "Valor                     float64\n",
       "NivelAprobacion            object\n",
       "dtype: object"
      ]
     },
     "execution_count": 38,
     "metadata": {},
     "output_type": "execute_result"
    }
   ],
   "source": [
    "#existe algunos errores con la conta de los valores unicos en fechas, seguidamente pasamos a revisar valores y verificar que el tipo de dato sea el correcto\n",
    "df.dtypes"
   ]
  },
  {
   "cell_type": "code",
   "execution_count": 39,
   "metadata": {},
   "outputs": [
    {
     "name": "stdout",
     "output_type": "stream",
     "text": [
      "Valores únicos en Fecha: 731\n"
     ]
    }
   ],
   "source": [
    "df[\"Fecha\"] = pd.to_datetime(df[\"Fecha\"], errors=\"coerce\")\n",
    "print(\"Valores únicos en Fecha:\", df[\"Fecha\"].nunique())\n"
   ]
  },
  {
   "cell_type": "code",
   "execution_count": null,
   "metadata": {},
   "outputs": [
    {
     "data": {
      "text/plain": [
       "np.int64(92)"
      ]
     },
     "execution_count": 40,
     "metadata": {},
     "output_type": "execute_result"
    }
   ],
   "source": [
    "# nos muestra un error (92) buscamos valores nulos\n",
    "df[\"Fecha\"].value_counts()[df[\"Fecha\"].value_counts() == 1].count()\n"
   ]
  }
 ],
 "metadata": {
  "kernelspec": {
   "display_name": "Python 3",
   "language": "python",
   "name": "python3"
  },
  "language_info": {
   "codemirror_mode": {
    "name": "ipython",
    "version": 3
   },
   "file_extension": ".py",
   "mimetype": "text/x-python",
   "name": "python",
   "nbconvert_exporter": "python",
   "pygments_lexer": "ipython3",
   "version": "3.12.1"
  }
 },
 "nbformat": 4,
 "nbformat_minor": 2
}
